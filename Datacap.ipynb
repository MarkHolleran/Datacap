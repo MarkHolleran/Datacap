{
 "cells": [
  {
   "cell_type": "code",
   "execution_count": 37,
   "id": "996a626a",
   "metadata": {},
   "outputs": [],
   "source": [
    "#imports\n",
    "\n",
    "import pandas as pd\n",
    "import re"
   ]
  },
  {
   "cell_type": "code",
   "execution_count": 38,
   "id": "71884f98",
   "metadata": {},
   "outputs": [],
   "source": [
    "#constants \n",
    "\n",
    "#fees associated with a transaction less than $50\n",
    "LESS_THAN_50_TSYS_PERCENTAGE_FEE = .01\n",
    "LESS_THAN_50_TSYS_FLAT_FEE = .10\n",
    "LESS_THAN_50_FIRST_DATA_PERCENTAGE_FEE = .0125\n",
    "LESS_THAN_50_FIRST_DATA_FEE = .08\n",
    "LESS_THAN_50_EVO_PERCENTAGE_FEE = .011\n",
    "LESS_THAN_50_EVO_FLAT_FEE = .09\n",
    "\n",
    "#fees associated with a transaction greater than $50\n",
    "OVER_50_TSYS_PERCENTAGE_FEE = 0.02\n",
    "OVER_50_TSYS_FLAT_FEE = .10\n",
    "OVER_50_FIRST_DATA_PERCENTAGE_FEE = 0.01\n",
    "OVER_50_FIRST_DATA_FLAT_FEE = .09\n",
    "OVER_50_EVO_PERCENTAGE_FEE = 0.015\n",
    "OVER_50_EVO_FLAT_FEE = .20"
   ]
  },
  {
   "cell_type": "code",
   "execution_count": 39,
   "id": "1f3864b8",
   "metadata": {},
   "outputs": [],
   "source": [
    "#opening of data \n",
    "#stripping of data of < > any any characters within < > characters\n",
    "sales = open(\"Transactions_Sales.txt\", \"r\")\n",
    "\n",
    "line = sales.read()\n",
    "\n",
    "sales = re.sub('<.*?>', \" \", line)\n",
    "\n",
    "voids = open(\"Transactions_Voids.txt\",\"r\")\n",
    "\n",
    "voids = voids.read()\n",
    "\n",
    "voids = re.sub('<.*?>', \" \", voids)\n"
   ]
  },
  {
   "cell_type": "code",
   "execution_count": 40,
   "id": "d9d832c9",
   "metadata": {},
   "outputs": [],
   "source": [
    "#creates dataframe and uses data to populate columns and rows\n",
    "\n",
    "df = pd.DataFrame(columns=['Type', 'Cost','Unique'])\n",
    "\n",
    "list = []\n",
    "\n",
    "for x in sales.splitlines()[1:]:\n",
    "    if x == \" \":\n",
    "        continue\n",
    "    c = x.split()\n",
    "    list.append(c)\n",
    "\n",
    "\n",
    "df = pd.DataFrame([[x[0], float(x[1]), x[2]]\n",
    "                  for x in list])\n",
    "\n",
    "df.columns = ['Type','Amount','Number']\n",
    "df = df.set_index('Number')\n"
   ]
  },
  {
   "cell_type": "code",
   "execution_count": 41,
   "id": "06510bdd",
   "metadata": {},
   "outputs": [],
   "source": [
    "#calculate 3 different service fees for each transaction\n",
    "\n",
    "def tsysFeeCalculator(Amount):\n",
    "    \n",
    "    if Amount >= 50.00:\n",
    "        \n",
    "        return (Amount * OVER_50_TSYS_PERCENTAGE_FEE) + OVER_50_TSYS_FLAT_FEE\n",
    "            \n",
    "    else:\n",
    "\n",
    "        return (Amount * LESS_THAN_50_TSYS_PERCENTAGE_FEE) + LESS_THAN_50_TSYS_FLAT_FEE\n",
    "\n",
    "            \n",
    "def firstdataFeeCalculator(Amount):\n",
    "    \n",
    "    if Amount >= 50.00:\n",
    "        \n",
    "        return (Amount * OVER_50_FIRST_DATA_PERCENTAGE_FEE) + OVER_50_FIRST_DATA_FLAT_FEE\n",
    "            \n",
    "    else:\n",
    "\n",
    "        return (Amount * LESS_THAN_50_FIRST_DATA_PERCENTAGE_FEE) + LESS_THAN_50_FIRST_DATA_FEE\n",
    "\n",
    "                        \n",
    "def evoFeeCalculator(Amount):\n",
    "    \n",
    "    if Amount >= 50.00:\n",
    "        \n",
    "        return (Amount * OVER_50_EVO_PERCENTAGE_FEE) + OVER_50_EVO_FLAT_FEE\n",
    "            \n",
    "    else:\n",
    "\n",
    "        return (Amount * LESS_THAN_50_EVO_PERCENTAGE_FEE) + LESS_THAN_50_EVO_FLAT_FEE\n",
    "    "
   ]
  },
  {
   "cell_type": "code",
   "execution_count": 42,
   "id": "862daef3",
   "metadata": {},
   "outputs": [
    {
     "name": "stdout",
     "output_type": "stream",
     "text": [
      "        Type  Amount    TSYS  FIRST_DATA      EVO\n",
      "Number                                           \n",
      "1       Sale   76.02  1.6204    0.850200  1.34030\n",
      "2       Sale   83.52  1.7704    0.925200  1.45280\n",
      "3       Sale    9.50  0.1950    0.198750  0.19450\n",
      "4       Sale   60.04  1.3008    0.690400  1.10060\n",
      "5       Sale   73.16  1.5632    0.821600  1.29740\n",
      "...      ...     ...     ...         ...      ...\n",
      "360     Sale   17.93  0.2793    0.304125  0.28723\n",
      "361     Sale   96.89  2.0378    1.058900  1.65335\n",
      "362     Sale   97.39  2.0478    1.063900  1.66085\n",
      "363     Sale   35.42  0.4542    0.522750  0.47962\n",
      "364     Sale   86.41  1.8282    0.954100  1.49615\n",
      "\n",
      "[364 rows x 5 columns]\n"
     ]
    }
   ],
   "source": [
    "#applies above functions to each transaction amount and creates a column in the dataframe \n",
    "df['TSYS'] = df[\"Amount\"].apply(tsysFeeCalculator)\n",
    "df['FIRST_DATA'] = df[\"Amount\"].apply(firstdataFeeCalculator)\n",
    "df['EVO'] = df[\"Amount\"].apply(evoFeeCalculator)\n",
    "\n",
    "\n",
    "print(df)"
   ]
  },
  {
   "cell_type": "code",
   "execution_count": 43,
   "id": "3adfc509",
   "metadata": {},
   "outputs": [],
   "source": [
    "#sums each service's column then sorts them based on amount (descending order)\n",
    "def calculateRank(df):\n",
    "    \n",
    "    result = [\n",
    "    \n",
    "        (df.loc[df['Type'] == 'Sale','TSYS'].sum(),df.columns[2])\n",
    "        ,(df.loc[df['Type'] == 'Sale','FIRST_DATA'].sum(),df.columns[3])\n",
    "        ,(df.loc[df['Type'] == 'Sale','EVO'].sum(),df.columns[4])]\n",
    "    \n",
    "    result.sort(reverse = True)\n",
    "    \n",
    "    return result\n",
    "    "
   ]
  },
  {
   "cell_type": "code",
   "execution_count": 44,
   "id": "f6c6472f",
   "metadata": {},
   "outputs": [
    {
     "name": "stdout",
     "output_type": "stream",
     "text": [
      "[(367.0979, 'TSYS'), (317.03677999999996, 'EVO'), (228.140425, 'FIRST_DATA')]\n"
     ]
    }
   ],
   "source": [
    "#SUM OF TOTAL FEES FOR EACH SERVICE BEFORE VOIDS\n",
    "print(calculateRank(df))"
   ]
  },
  {
   "cell_type": "code",
   "execution_count": 45,
   "id": "cf9eb5e0",
   "metadata": {},
   "outputs": [],
   "source": [
    "list = []\n",
    "\n",
    "for x in voids.splitlines()[1:]:\n",
    "    if x == \" \":\n",
    "        continue\n",
    "    c = x.split()\n",
    "    list.append(c)\n"
   ]
  },
  {
   "cell_type": "code",
   "execution_count": 46,
   "id": "f234bb85",
   "metadata": {},
   "outputs": [],
   "source": [
    "for x in list:\n",
    "    \n",
    "    if float(x[1]) == df.at[str((int(x[2]))),'Amount']:\n",
    "        \n",
    "        df.at[str(int(x[2])), 'Type'] = 'VOID'\n",
    "        \n",
    "    else:\n",
    "        \n",
    "        pass \n"
   ]
  },
  {
   "cell_type": "code",
   "execution_count": 47,
   "id": "570229df",
   "metadata": {},
   "outputs": [
    {
     "name": "stdout",
     "output_type": "stream",
     "text": [
      "[(351.8089, 'TSYS'), (304.27491, 'EVO'), (219.773525, 'FIRST_DATA')]\n"
     ]
    }
   ],
   "source": [
    "#SUM OF TOTAL FEES FOR EACH SERVICE AFTER VOIDS\n",
    "\n",
    "print(calculateRank(df))"
   ]
  }
 ],
 "metadata": {
  "kernelspec": {
   "display_name": "Python 3 (ipykernel)",
   "language": "python",
   "name": "python3"
  },
  "language_info": {
   "codemirror_mode": {
    "name": "ipython",
    "version": 3
   },
   "file_extension": ".py",
   "mimetype": "text/x-python",
   "name": "python",
   "nbconvert_exporter": "python",
   "pygments_lexer": "ipython3",
   "version": "3.9.13"
  }
 },
 "nbformat": 4,
 "nbformat_minor": 5
}
